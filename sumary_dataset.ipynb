{
 "cells": [
  {
   "cell_type": "code",
   "execution_count": null,
   "metadata": {},
   "outputs": [],
   "source": [
    "import glob\n",
    "import random\n",
    "import os"
   ]
  },
  {
   "cell_type": "code",
   "execution_count": null,
   "metadata": {},
   "outputs": [],
   "source": [
    "files = glob.glob(\"data/custom/labels/*.txt\")\n",
    "train_files = files[:9664]\n",
    "test_files = files[9664:]"
   ]
  },
  {
   "cell_type": "code",
   "execution_count": null,
   "metadata": {},
   "outputs": [],
   "source": [
    "count_p = 0\n",
    "count_n = 0\n",
    "for line in train_files:\n",
    "    f = open(line,'r')\n",
    "    bbs = list(f)\n",
    "    f.close()\n",
    "    for bb in bbs:\n",
    "        c,cx,cy,bw,bh = bb.split()\n",
    "        if c == '1':\n",
    "            count_p += 1 \n",
    "        else:\n",
    "            count_n += 1\n",
    "print(\"Training Set\")\n",
    "print(\"Normal Cells %d\" % count_n)\n",
    "print(\"Infected Cells %d\" % count_p)"
   ]
  },
  {
   "cell_type": "code",
   "execution_count": null,
   "metadata": {},
   "outputs": [],
   "source": [
    "count_p = 0\n",
    "count_n = 0\n",
    "for line in test_files:\n",
    "    f = open(line,'r')\n",
    "    bbs = list(f)\n",
    "    f.close()\n",
    "    for bb in bbs:\n",
    "        c,cx,cy,bw,bh = bb.split()\n",
    "        if c == '1':\n",
    "            count_p += 1 \n",
    "        else:\n",
    "            count_n += 1\n",
    "print(\"Testing Set\")\n",
    "print(\"Normal Cells %d\" % count_n)\n",
    "print(\"Infected Cells %d\" % count_p)"
   ]
  },
  {
   "cell_type": "code",
   "execution_count": null,
   "metadata": {},
   "outputs": [],
   "source": []
  }
 ],
 "metadata": {
  "kernelspec": {
   "display_name": "pytorch_env",
   "language": "python",
   "name": "pytorch_env"
  },
  "language_info": {
   "codemirror_mode": {
    "name": "ipython",
    "version": 3
   },
   "file_extension": ".py",
   "mimetype": "text/x-python",
   "name": "python",
   "nbconvert_exporter": "python",
   "pygments_lexer": "ipython3",
   "version": "3.7.3"
  }
 },
 "nbformat": 4,
 "nbformat_minor": 2
}
